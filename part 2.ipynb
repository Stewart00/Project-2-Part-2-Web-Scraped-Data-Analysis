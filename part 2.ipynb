{
 "cells": [
  {
   "cell_type": "code",
   "execution_count": 33,
   "metadata": {},
   "outputs": [],
   "source": [
    "import requests\n",
    "from bs4 import BeautifulSoup\n",
    "import pandas as pd\n",
    "import seaborn as sns\n",
    "import matplotlib.pyplot as plt\n",
    "import numpy as np\n",
    "from selenium import webdriver\n",
    "from selenium.webdriver.chrome.service import Service\n",
    "import time\n",
    "import re"
   ]
  },
  {
   "cell_type": "markdown",
   "metadata": {},
   "source": [
    "SamSung Tv Scraping"
   ]
  },
  {
   "cell_type": "code",
   "execution_count": 53,
   "metadata": {},
   "outputs": [
    {
     "name": "stdout",
     "output_type": "stream",
     "text": [
      "$328.00\n"
     ]
    }
   ],
   "source": [
    "url = 'https://www.walmart.com/ip/SAMSUNG-50-Class-DU7200B-Crystal-UHD-4K-Smart-TV-UN50DU7200BXZA-2024/5314190785?wmlspartner=wlpa&cn=FY25-ENTP-PMAX_cnv_dps_dsn_dis_ad_entp_e_n&gclsrc=aw.ds&adid=22222222297_0000000000_21835691471&wl0=&wl1=x&wl2=c&wl3=&wl4=&wl5=9003502&wl6=&wl7=&wl8=&wl9=&wl10=&wl11=&wl12=&veh=sem&gad_source=1&gclid=Cj0KCQiA6Ou5BhCrARIsAPoTxrBRCfOo3GGlFkg-kJXTyLozNunIxE9S86EbUMc6BTYTBRMpRnt76IYaAmDIEALw_wcB'\n",
    "\n",
    "service = Service(r\"C:\\Users\\stewa\\OneDrive\\chromedriver-win64\\chromedriver.exe\")  \n",
    "driver = webdriver.Chrome(service=service) # ChatGPT\n",
    "\n",
    "driver.get(url)\n",
    "time.sleep(30)  # Wait for page to load so i can confirm im a human\n",
    "\n",
    "html = driver.page_source\n",
    "\n",
    "soup = BeautifulSoup(html, 'html.parser')\n",
    "    \n",
    "#print(soup.prettify())  \n",
    "print(soup.find('span',itemprop='price').text.strip())\n",
    "\n",
    "driver.quit()"
   ]
  },
  {
   "cell_type": "markdown",
   "metadata": {},
   "source": [
    "Scraping Apple Airtag"
   ]
  },
  {
   "cell_type": "code",
   "execution_count": null,
   "metadata": {},
   "outputs": [],
   "source": [
    "url2 ='https://www.walmart.com/ip/Apple-AirTag-1-Pack/5396499207?classType=REGULAR&athbdg=L1800&from=/search'\n",
    "\n",
    "service = Service(r\"C:\\Users\\stewa\\OneDrive\\chromedriver-win64\\chromedriver.exe\")  \n",
    "driver = webdriver.Chrome(service=service) # ChatGPT\n",
    "\n",
    "driver.get(url2)\n",
    "time.sleep(30)  # Wait for page to load so i can confirm im a human\n",
    "\n",
    "html = driver.page_source\n",
    "\n",
    "soup = BeautifulSoup(html, 'html.parser')\n",
    "\n",
    "#print(soup.find_all('a',itemprop='ratingCount'))\n",
    "ratings = soup.find('a',itemprop='ratingCount').text\n",
    "\n",
    "driver.quit()"
   ]
  },
  {
   "cell_type": "code",
   "execution_count": 56,
   "metadata": {},
   "outputs": [
    {
     "data": {
      "text/plain": [
       "'836 ratings'"
      ]
     },
     "execution_count": 56,
     "metadata": {},
     "output_type": "execute_result"
    }
   ],
   "source": [
    "ratings"
   ]
  },
  {
   "cell_type": "markdown",
   "metadata": {},
   "source": [
    "Scraping Airpods and JBL Tune Beams and finding price difference"
   ]
  },
  {
   "cell_type": "code",
   "execution_count": null,
   "metadata": {},
   "outputs": [
    {
     "ename": "AttributeError",
     "evalue": "'NoneType' object has no attribute 'text'",
     "output_type": "error",
     "traceback": [
      "\u001b[1;31m---------------------------------------------------------------------------\u001b[0m",
      "\u001b[1;31mAttributeError\u001b[0m                            Traceback (most recent call last)",
      "Cell \u001b[1;32mIn[57], line 31\u001b[0m\n\u001b[0;32m     27\u001b[0m html \u001b[38;5;241m=\u001b[39m driver\u001b[38;5;241m.\u001b[39mpage_source\n\u001b[0;32m     29\u001b[0m soup \u001b[38;5;241m=\u001b[39m BeautifulSoup(html, \u001b[38;5;124m'\u001b[39m\u001b[38;5;124mhtml.parser\u001b[39m\u001b[38;5;124m'\u001b[39m)\n\u001b[1;32m---> 31\u001b[0m p2 \u001b[38;5;241m=\u001b[39m \u001b[43msoup\u001b[49m\u001b[38;5;241;43m.\u001b[39;49m\u001b[43mfind\u001b[49m\u001b[43m(\u001b[49m\u001b[38;5;124;43m'\u001b[39;49m\u001b[38;5;124;43mspan\u001b[39;49m\u001b[38;5;124;43m'\u001b[39;49m\u001b[43m,\u001b[49m\u001b[43mitemprop\u001b[49m\u001b[38;5;241;43m=\u001b[39;49m\u001b[38;5;124;43m'\u001b[39;49m\u001b[38;5;124;43mprice\u001b[39;49m\u001b[38;5;124;43m'\u001b[39;49m\u001b[43m)\u001b[49m\u001b[38;5;241;43m.\u001b[39;49m\u001b[43mtext\u001b[49m\u001b[38;5;241m.\u001b[39mstrip()\n\u001b[0;32m     33\u001b[0m driver\u001b[38;5;241m.\u001b[39mquit()\n",
      "\u001b[1;31mAttributeError\u001b[0m: 'NoneType' object has no attribute 'text'"
     ]
    }
   ],
   "source": [
    "url3 = 'https://www.walmart.com/ip/Apple-AirPods-3rd-Generation/5527780373?classType=REGULAR&athbdg=L1800&from=/search'\n",
    "\n",
    "# Airpods\n",
    "service = Service(r\"C:\\Users\\stewa\\OneDrive\\chromedriver-win64\\chromedriver.exe\")  \n",
    "driver = webdriver.Chrome(service=service) # ChatGPT\n",
    "\n",
    "driver.get(url3)\n",
    "time.sleep(30) # Wait for page to load so i can confirm im a human\n",
    "\n",
    "html = driver.page_source\n",
    "\n",
    "soup = BeautifulSoup(html, 'html.parser')\n",
    "\n",
    "#print(soup.find_all('span',itemprop='price')) \n",
    "p1 = soup.find('span',itemprop='price').text.strip()\n",
    "    \n",
    "driver.quit()"
   ]
  },
  {
   "cell_type": "code",
   "execution_count": 58,
   "metadata": {},
   "outputs": [],
   "source": [
    "url4 = 'https://www.walmart.com/ip/JBL-Tune-Beam-Headphones-in-Ear-Earbuds/1597454551?classType=VARIANT&athbdg=L1103&from=/search'\n",
    "#JBL Tune Beams\n",
    "service = Service(r\"C:\\Users\\stewa\\OneDrive\\chromedriver-win64\\chromedriver.exe\")  \n",
    "driver = webdriver.Chrome(service=service)\n",
    "\n",
    "driver.get(url4)\n",
    "time.sleep(30) # Wait for page to load so i can confirm im a human\n",
    "\n",
    "html = driver.page_source\n",
    "\n",
    "soup = BeautifulSoup(html, 'html.parser')\n",
    "    \n",
    "p2 = soup.find('span',itemprop='price').text.strip()\n",
    "    \n",
    "driver.quit()"
   ]
  },
  {
   "cell_type": "markdown",
   "metadata": {},
   "source": [
    "Finding the difference"
   ]
  },
  {
   "cell_type": "code",
   "execution_count": 73,
   "metadata": {},
   "outputs": [
    {
     "name": "stdout",
     "output_type": "stream",
     "text": [
      "15.0\n"
     ]
    }
   ],
   "source": [
    "#p1 = float(p1.replace('Now ','').replace('$', '').replace(',', ''))\n",
    "#p2 = float(p2.replace('Now ','').replace('$', '').replace(',', ''))\n",
    "#p1\n",
    "#p2\n",
    "print(abs(p2-p1))"
   ]
  },
  {
   "cell_type": "markdown",
   "metadata": {},
   "source": [
    "Rating Distribution of Ring Doorbell"
   ]
  },
  {
   "cell_type": "code",
   "execution_count": 46,
   "metadata": {},
   "outputs": [],
   "source": [
    "url5 ='https://www.walmart.com/ip/Wireless-Doorbell-Camera-with-Chime-Video-Doorbell-Security-Camera-with-Batteries-for-Home/5441809604?classType=REGULAR&athbdg=L1600&from=/search'\n",
    "\n",
    "service = Service(r\"C:\\Users\\stewa\\OneDrive\\chromedriver-win64\\chromedriver.exe\")  \n",
    "driver = webdriver.Chrome(service=service) # ChatGPT\n",
    "\n",
    "driver.get(url5)\n",
    "time.sleep(30)  # Wait for page to load so i can confirm im a human\n",
    "\n",
    "html = driver.page_source\n",
    "\n",
    "soup = BeautifulSoup(html, 'html.parser')\n",
    "\n",
    "ratings = (soup.find_all('span',class_='w5 tl pl1 f7 nowrap'))\n",
    "driver.quit()"
   ]
  },
  {
   "cell_type": "markdown",
   "metadata": {},
   "source": [
    "Cleaning"
   ]
  },
  {
   "cell_type": "code",
   "execution_count": 47,
   "metadata": {},
   "outputs": [],
   "source": [
    "stars = []\n",
    "#ChatGPT\n",
    "for item in ratings:\n",
    "    if item:  # Check if item is a valid BeautifulSoup object\n",
    "        # Extract the text from the span tag\n",
    "        text = item.get_text()  # This gives you the raw string like '85% (712)'\n",
    "\n",
    "        # Use regex to extract the number inside parentheses\n",
    "        match = re.search(r'\\((\\d+)\\)', text)\n",
    "        if match:\n",
    "            stars.append(int(match.group(1)))\n"
   ]
  },
  {
   "cell_type": "markdown",
   "metadata": {},
   "source": [
    "Plotting The Ratings"
   ]
  },
  {
   "cell_type": "code",
   "execution_count": 48,
   "metadata": {},
   "outputs": [
    {
     "data": {
      "image/png": "[encoded data removed]",
      "text/plain": [
       "<Figure size 800x800 with 1 Axes>"
      ]
     },
     "metadata": {},
     "output_type": "display_data"
    }
   ],
   "source": [
    "# Data for the pie chart\n",
    "ratings = [stars[4], stars[3], stars[2], stars[1], stars[0]]\n",
    "labels = ['1 Star', '2 Star', '3 Star', '4 Star', '5 Star']\n",
    "colors = ['red', 'orange', 'yellow', 'lightgreen', 'blue']\n",
    "\n",
    "plt.figure(figsize=(8, 8))\n",
    "plt.pie(ratings, labels=labels, colors=colors, autopct='%1.1f%%', startangle=140)\n",
    "\n",
    "plt.title('Distribution of Ratings')\n",
    "\n",
    "plt.show()"
   ]
  },
  {
   "cell_type": "markdown",
   "metadata": {},
   "source": [
    "Scraping MacBook Sale"
   ]
  },
  {
   "cell_type": "code",
   "execution_count": 75,
   "metadata": {},
   "outputs": [
    {
     "name": "stdout",
     "output_type": "stream",
     "text": [
      "$50.00\n"
     ]
    }
   ],
   "source": [
    "url6 = 'https://www.walmart.com/ip/Apple-MacBook-Air-13-3-inch-Laptop-Space-Gray-M1-Chip-8GB-RAM-256GB-storage/609040889?classType=VARIANT&from=/search'\n",
    "\n",
    "service = Service(r\"C:\\Users\\stewa\\OneDrive\\chromedriver-win64\\chromedriver.exe\")  \n",
    "driver = webdriver.Chrome(service=service) # ChatGPT\n",
    "\n",
    "driver.get(url6)\n",
    "time.sleep(30) # Wait for page to load so i can confirm im a human\n",
    "\n",
    "html = driver.page_source\n",
    "\n",
    "soup = BeautifulSoup(html, 'html.parser')\n",
    "    \n",
    "print(soup.find('span',class_='b lh-copy f5 green').text)\n",
    "\n",
    "driver.quit()"
   ]
  }
 ],
 "metadata": {
  "kernelspec": {
   "display_name": "Python 3",
   "language": "python",
   "name": "python3"
  },
  "language_info": {
   "codemirror_mode": {
    "name": "ipython",
    "version": 3
   },
   "file_extension": ".py",
   "mimetype": "text/x-python",
   "name": "python",
   "nbconvert_exporter": "python",
   "pygments_lexer": "ipython3",
   "version": "3.11.9"
  }
 },
 "nbformat": 4,
 "nbformat_minor": 2
}
